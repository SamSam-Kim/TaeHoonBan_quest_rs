{
 "cells": [
  {
   "cell_type": "code",
   "execution_count": 22,
   "id": "f55c198a",
   "metadata": {},
   "outputs": [
    {
     "name": "stdout",
     "output_type": "stream",
     "text": [
      "1.3.3\n",
      "0.5.2\n",
      "4.1.2\n"
     ]
    }
   ],
   "source": [
    "import pandas\n",
    "import konlpy\n",
    "import gensim\n",
    "\n",
    "print(pandas.__version__)\n",
    "print(konlpy.__version__)\n",
    "print(gensim.__version__)"
   ]
  },
  {
   "cell_type": "markdown",
   "id": "adf4dab6",
   "metadata": {},
   "source": [
    "# 1) 데이터 준비와 확인"
   ]
  },
  {
   "cell_type": "code",
   "execution_count": 23,
   "id": "ab1b33b7",
   "metadata": {},
   "outputs": [
    {
     "data": {
      "text/html": [
       "<div>\n",
       "<style scoped>\n",
       "    .dataframe tbody tr th:only-of-type {\n",
       "        vertical-align: middle;\n",
       "    }\n",
       "\n",
       "    .dataframe tbody tr th {\n",
       "        vertical-align: top;\n",
       "    }\n",
       "\n",
       "    .dataframe thead th {\n",
       "        text-align: right;\n",
       "    }\n",
       "</style>\n",
       "<table border=\"1\" class=\"dataframe\">\n",
       "  <thead>\n",
       "    <tr style=\"text-align: right;\">\n",
       "      <th></th>\n",
       "      <th>id</th>\n",
       "      <th>document</th>\n",
       "      <th>label</th>\n",
       "    </tr>\n",
       "  </thead>\n",
       "  <tbody>\n",
       "    <tr>\n",
       "      <th>0</th>\n",
       "      <td>9976970</td>\n",
       "      <td>아 더빙.. 진짜 짜증나네요 목소리</td>\n",
       "      <td>0</td>\n",
       "    </tr>\n",
       "    <tr>\n",
       "      <th>1</th>\n",
       "      <td>3819312</td>\n",
       "      <td>흠...포스터보고 초딩영화줄....오버연기조차 가볍지 않구나</td>\n",
       "      <td>1</td>\n",
       "    </tr>\n",
       "    <tr>\n",
       "      <th>2</th>\n",
       "      <td>10265843</td>\n",
       "      <td>너무재밓었다그래서보는것을추천한다</td>\n",
       "      <td>0</td>\n",
       "    </tr>\n",
       "    <tr>\n",
       "      <th>3</th>\n",
       "      <td>9045019</td>\n",
       "      <td>교도소 이야기구먼 ..솔직히 재미는 없다..평점 조정</td>\n",
       "      <td>0</td>\n",
       "    </tr>\n",
       "    <tr>\n",
       "      <th>4</th>\n",
       "      <td>6483659</td>\n",
       "      <td>사이몬페그의 익살스런 연기가 돋보였던 영화!스파이더맨에서 늙어보이기만 했던 커스틴 ...</td>\n",
       "      <td>1</td>\n",
       "    </tr>\n",
       "  </tbody>\n",
       "</table>\n",
       "</div>"
      ],
      "text/plain": [
       "         id                                           document  label\n",
       "0   9976970                                아 더빙.. 진짜 짜증나네요 목소리      0\n",
       "1   3819312                  흠...포스터보고 초딩영화줄....오버연기조차 가볍지 않구나      1\n",
       "2  10265843                                  너무재밓었다그래서보는것을추천한다      0\n",
       "3   9045019                      교도소 이야기구먼 ..솔직히 재미는 없다..평점 조정      0\n",
       "4   6483659  사이몬페그의 익살스런 연기가 돋보였던 영화!스파이더맨에서 늙어보이기만 했던 커스틴 ...      1"
      ]
     },
     "execution_count": 23,
     "metadata": {},
     "output_type": "execute_result"
    }
   ],
   "source": [
    "import pandas as pd\n",
    "\n",
    "# 데이터를 읽어봅시다. \n",
    "train_data = pd.read_table('~/aiffel/sentiment_classification/data/ratings_train.txt')\n",
    "test_data = pd.read_table('~/aiffel/sentiment_classification/data/ratings_test.txt')\n",
    "\n",
    "train_data.head()"
   ]
  },
  {
   "cell_type": "markdown",
   "id": "79b0110b",
   "metadata": {},
   "source": [
    "# 2) 데이터로더 구성\n",
    "- 데이터의 중복 제거\n",
    "- NaN 결측치 제거\n",
    "- 한국어 토크나이저로 토큰화\n",
    "- 불용어(Stopwords) 제거\n",
    "- 사전word_to_index 구성\n",
    "- 텍스트 스트링을 사전 인덱스 스트링으로 변환\n",
    "- X_train, y_train, X_test, y_test, word_to_index 리턴"
   ]
  },
  {
   "cell_type": "code",
   "execution_count": 24,
   "id": "4e456e4e",
   "metadata": {},
   "outputs": [],
   "source": [
    "from konlpy.tag import Mecab\n",
    "import numpy as np\n",
    "from collections import Counter\n",
    "\n",
    "tokenizer = Mecab()\n",
    "stopwords = ['의','가','이','은','들','는','좀','잘','걍','과','도','를','으로','자','에','와','한','하다']\n",
    "\n",
    "def load_data(train_data, test_data, num_words=10000):\n",
    "    train_data.drop_duplicates(subset=['document'], inplace=True) # 중복 제거\n",
    "    train_data = train_data.dropna(how = 'any') # NaN 결측치 제거\n",
    "    test_data.drop_duplicates(subset=['document'], inplace=True)\n",
    "    test_data = test_data.dropna(how = 'any') \n",
    "    \n",
    "    X_train = []\n",
    "    for sentence in train_data['document']:\n",
    "        temp_X = tokenizer.morphs(sentence) # 토큰화\n",
    "        temp_X = [word for word in temp_X if not word in stopwords] # 불용어 제거\n",
    "        X_train.append(temp_X)\n",
    "\n",
    "    X_test = []\n",
    "    for sentence in test_data['document']:\n",
    "        temp_X = tokenizer.morphs(sentence) # 토큰화\n",
    "        temp_X = [word for word in temp_X if not word in stopwords] # 불용어 제거\n",
    "        X_test.append(temp_X)\n",
    "    \n",
    "    words = np.concatenate(X_train).tolist()\n",
    "    counter = Counter(words)\n",
    "    counter = counter.most_common(10000-4)\n",
    "    vocab = ['', '', '', ''] + [key for key, _ in counter]\n",
    "    word_to_index = {word:index for index, word in enumerate(vocab)} # 사전 word_to_index 구성\n",
    "        \n",
    "    def wordlist_to_indexlist(wordlist):\n",
    "        return [word_to_index[word] if word in word_to_index else word_to_index[''] for word in wordlist]\n",
    "        \n",
    "    X_train = list(map(wordlist_to_indexlist, X_train)) # 텍스트를 인덱스로 변환\n",
    "    X_test = list(map(wordlist_to_indexlist, X_test))\n",
    "        \n",
    "    return X_train, np.array(list(train_data['label'])), X_test, np.array(list(test_data['label'])), word_to_index\n",
    "      # 최종 리턴값 (X_train, y_train, X_test, y_test, word_to_index)\n",
    "    \n",
    "X_train, y_train, X_test, y_test, word_to_index = load_data(train_data, test_data)"
   ]
  },
  {
   "cell_type": "code",
   "execution_count": 25,
   "id": "de1dbe4a",
   "metadata": {},
   "outputs": [],
   "source": [
    "index_to_word = {index:word for word, index in word_to_index.items()}"
   ]
  },
  {
   "cell_type": "code",
   "execution_count": 26,
   "id": "a1d9dbf5",
   "metadata": {},
   "outputs": [],
   "source": [
    "# 문장 1개를 활용할 딕셔너리와 함께 주면, 단어 인덱스 리스트 벡터로 변환해 주는 함수입니다. \n",
    "# 단, 모든 문장은 <BOS>로 시작하는 것으로 합니다. \n",
    "def get_encoded_sentence(sentence, word_to_index):\n",
    "    return [word_to_index['<BOS>']]+[word_to_index[word] if word in word_to_index else word_to_index['<UNK>'] for word in sentence.split()]\n",
    "\n",
    "# 여러 개의 문장 리스트를 한꺼번에 단어 인덱스 리스트 벡터로 encode해 주는 함수입니다. \n",
    "def get_encoded_sentences(sentences, word_to_index):\n",
    "    return [get_encoded_sentence(sentence, word_to_index) for sentence in sentences]\n",
    "\n",
    "# 숫자 벡터로 encode된 문장을 원래대로 decode하는 함수입니다. \n",
    "def get_decoded_sentence(encoded_sentence, index_to_word):\n",
    "    return ' '.join(index_to_word[index] if index in index_to_word else '<UNK>' for index in encoded_sentence[1:])  #[1:]를 통해 <BOS>를 제외\n",
    "\n",
    "# 여러 개의 숫자 벡터로 encode된 문장을 한꺼번에 원래대로 decode하는 함수입니다. \n",
    "def get_decoded_sentences(encoded_sentences, index_to_word):\n",
    "    return [get_decoded_sentence(encoded_sentence, index_to_word) for encoded_sentence in encoded_sentences]"
   ]
  },
  {
   "cell_type": "markdown",
   "id": "95042f8d",
   "metadata": {},
   "source": [
    "# 3) 모델 구성을 위한 데이터 분석 및 가공\n",
    "- 데이터셋 내 문장 길이 분포\n",
    "- 적절한 최대 문장 길이 지정\n",
    "- keras.preprocessing.sequence.pad_sequences 을 활용한 패딩 추가"
   ]
  },
  {
   "cell_type": "code",
   "execution_count": 27,
   "id": "82760dd7",
   "metadata": {},
   "outputs": [
    {
     "name": "stdout",
     "output_type": "stream",
     "text": [
      "훈련 샘플 개수: 146182, 테스트 개수: 49157\n"
     ]
    }
   ],
   "source": [
    "print(f\"훈련 샘플 개수: {len(X_train)}, 테스트 개수: {len(X_test)}\")"
   ]
  },
  {
   "cell_type": "code",
   "execution_count": 28,
   "id": "57671c99",
   "metadata": {},
   "outputs": [
    {
     "name": "stdout",
     "output_type": "stream",
     "text": [
      "[32, 74, 919, 4, 4, 39, 228, 20, 33, 748]\n",
      "라벨:  0\n",
      "1번째 리뷰 문장 길이:  10\n",
      "2번째 리뷰 문장 길이:  17\n"
     ]
    }
   ],
   "source": [
    "print(X_train[0])  # 1번째 리뷰데이터\n",
    "print('라벨: ', y_train[0])  # 1번째 리뷰데이터의 라벨\n",
    "print('1번째 리뷰 문장 길이: ', len(X_train[0]))\n",
    "print('2번째 리뷰 문장 길이: ', len(X_train[1]))"
   ]
  },
  {
   "cell_type": "code",
   "execution_count": 29,
   "id": "d278fdf0",
   "metadata": {},
   "outputs": [
    {
     "name": "stdout",
     "output_type": "stream",
     "text": [
      "문장 길이 최소값: 0\n",
      "문장 길이 최대값: 116\n",
      "문장 길이 평균값: 15.98170773419436\n",
      "문장 길이 중간값: 12.0\n",
      "95%의 문장을 커버하는 최대 길이: 47\n"
     ]
    }
   ],
   "source": [
    "import matplotlib.pyplot as plt\n",
    "\n",
    "# 문장 길이 측정\n",
    "document_lengths = [len(sentence) for sentence in X_train]\n",
    "\n",
    "# 통계 수치도 함께 확인\n",
    "import numpy as np\n",
    "print(\"문장 길이 최소값:\", np.min(document_lengths))\n",
    "print(\"문장 길이 최대값:\", np.max(document_lengths))\n",
    "print(\"문장 길이 평균값:\", np.mean(document_lengths))\n",
    "print(\"문장 길이 중간값:\", np.median(document_lengths))\n",
    "\n",
    "# 95% 커버하는 길이 찾기\n",
    "from collections import Counter\n",
    "\n",
    "length_counts = Counter(document_lengths)\n",
    "total = sum(length_counts.values())\n",
    "\n",
    "sorted_lengths = sorted(length_counts.items())\n",
    "acc = 0\n",
    "max_len = 0\n",
    "\n",
    "for length, count in sorted_lengths:\n",
    "    acc += count\n",
    "    if acc / total >= 0.95:  # 누적합이 95% 이상이면 중단\n",
    "        max_len = length\n",
    "        break\n",
    "\n",
    "print(f\"95%의 문장을 커버하는 최대 길이: {max_len}\")\n",
    "\n"
   ]
  },
  {
   "cell_type": "code",
   "execution_count": 30,
   "id": "d73f9965",
   "metadata": {},
   "outputs": [
    {
     "name": "stdout",
     "output_type": "stream",
     "text": [
      "문장 길이 평균: 15.96940191154864\n",
      "문장 길이 최대: 116\n",
      "문장 길이 표준편차: 12.843571191092\n",
      "pad_sequences maxlen: 41\n",
      "전체 문장의 93.43%가 maxlen 이내에 포함됩니다.\n",
      "패딩된 X_train shape: (146182, 41)\n",
      "패딩된 X_test shape: (49157, 41)\n"
     ]
    }
   ],
   "source": [
    "# 훈련 + 테스트 데이터를 합쳐 전체 문장 길이 분석\n",
    "total_data_text = list(X_train) + list(X_test)\n",
    "num_tokens = np.array([len(tokens) for tokens in total_data_text])\n",
    "\n",
    "# 평균, 최대, 표준편차 출력\n",
    "print('문장 길이 평균:', np.mean(num_tokens))\n",
    "print('문장 길이 최대:', np.max(num_tokens))\n",
    "print('문장 길이 표준편차:', np.std(num_tokens))\n",
    "\n",
    "# maxlen 기준 설정\n",
    "max_tokens = np.mean(num_tokens) + 2 * np.std(num_tokens)\n",
    "maxlen = int(max_tokens)\n",
    "\n",
    "# 얼마나 많은 문장이 이 길이 이내에 포함되는지 확인\n",
    "ratio = np.sum(num_tokens < max_tokens) / len(num_tokens)\n",
    "print(f\"pad_sequences maxlen: {maxlen}\")\n",
    "print(f\"전체 문장의 {ratio * 100:.2f}%가 maxlen 이내에 포함됩니다.\")\n",
    "\n",
    "from tensorflow.keras.preprocessing.sequence import pad_sequences\n",
    "\n",
    "# word_to_index[\"<PAD>\"] 값이 있는지 확인\n",
    "pad_index = word_to_index.get(\"<PAD>\")\n",
    "if pad_index is None:\n",
    "    word_to_index[\"<PAD>\"] = 0\n",
    "    pad_index = 0\n",
    "\n",
    "# 패딩 적용\n",
    "X_train_padded = pad_sequences(X_train, maxlen=maxlen, padding='post', value=pad_index)\n",
    "X_test_padded = pad_sequences(X_test, maxlen=maxlen, padding='post', value=pad_index)\n",
    "\n",
    "print(\"패딩된 X_train shape:\", X_train_padded.shape)\n",
    "print(\"패딩된 X_test shape:\", X_test_padded.shape)"
   ]
  },
  {
   "cell_type": "markdown",
   "id": "e5135461",
   "metadata": {},
   "source": [
    "- 숫자 41은 다음 코드 부분에서 설정된 maxlen 값입니다:\n",
    "- maxlen = int(np.mean(num_tokens) + 2 * np.std(num_tokens))  # 👉 여기서 결정됨\n",
    "- 즉, 문장 길이의 평균과 표준편차를 바탕으로 대부분의 문장을 포함할 수 있는 적절한 길이로 자동 계산한 값이에요."
   ]
  },
  {
   "cell_type": "markdown",
   "id": "f3552da2",
   "metadata": {},
   "source": [
    "# 4) 모델 구성 및 validation set 구성\n",
    "- 모델은 3가지 이상 다양하게 구성하여 실험해 보세요."
   ]
  },
  {
   "cell_type": "code",
   "execution_count": 31,
   "id": "0fa0eaad",
   "metadata": {},
   "outputs": [],
   "source": [
    "import tensorflow as tf\n",
    "\n",
    "# 공통 전처리 및 하이퍼파라미터 설정\n",
    "\n",
    "vocab_size = 10000        # 단어 사전 크기\n",
    "word_vector_dim = 16      # 워드 임베딩 차원"
   ]
  },
  {
   "cell_type": "code",
   "execution_count": 32,
   "id": "89065acf",
   "metadata": {},
   "outputs": [
    {
     "name": "stdout",
     "output_type": "stream",
     "text": [
      "Model: \"sequential_6\"\n",
      "_________________________________________________________________\n",
      "Layer (type)                 Output Shape              Param #   \n",
      "=================================================================\n",
      "embedding_6 (Embedding)      (None, 41, 16)            160000    \n",
      "_________________________________________________________________\n",
      "conv1d_2 (Conv1D)            (None, 35, 16)            1808      \n",
      "_________________________________________________________________\n",
      "global_max_pooling1d_2 (Glob (None, 16)                0         \n",
      "_________________________________________________________________\n",
      "dense_12 (Dense)             (None, 8)                 136       \n",
      "_________________________________________________________________\n",
      "dense_13 (Dense)             (None, 1)                 9         \n",
      "=================================================================\n",
      "Total params: 161,953\n",
      "Trainable params: 161,953\n",
      "Non-trainable params: 0\n",
      "_________________________________________________________________\n"
     ]
    }
   ],
   "source": [
    "#  모델 1: GlobalMaxPooling + Conv1D 기반 모델\n",
    "\n",
    "model1 = tf.keras.Sequential()\n",
    "model1.add(tf.keras.layers.Embedding(vocab_size, word_vector_dim, input_length=maxlen))\n",
    "model1.add(tf.keras.layers.Conv1D(16, 7, activation='relu'))\n",
    "model1.add(tf.keras.layers.GlobalMaxPooling1D())\n",
    "model1.add(tf.keras.layers.Dense(8, activation='relu'))\n",
    "model1.add(tf.keras.layers.Dense(1, activation='sigmoid'))\n",
    "\n",
    "model1.summary()\n"
   ]
  },
  {
   "cell_type": "code",
   "execution_count": 33,
   "id": "1f692b6d",
   "metadata": {},
   "outputs": [
    {
     "name": "stdout",
     "output_type": "stream",
     "text": [
      "Model: \"sequential_7\"\n",
      "_________________________________________________________________\n",
      "Layer (type)                 Output Shape              Param #   \n",
      "=================================================================\n",
      "embedding_7 (Embedding)      (None, 41, 16)            160000    \n",
      "_________________________________________________________________\n",
      "lstm_2 (LSTM)                (None, 16)                2112      \n",
      "_________________________________________________________________\n",
      "dense_14 (Dense)             (None, 8)                 136       \n",
      "_________________________________________________________________\n",
      "dense_15 (Dense)             (None, 1)                 9         \n",
      "=================================================================\n",
      "Total params: 162,257\n",
      "Trainable params: 162,257\n",
      "Non-trainable params: 0\n",
      "_________________________________________________________________\n"
     ]
    }
   ],
   "source": [
    "# 모델 2: LSTM 기반 모델\n",
    "\n",
    "model2 = tf.keras.Sequential()\n",
    "model2.add(tf.keras.layers.Embedding(vocab_size, word_vector_dim, input_length=maxlen))\n",
    "model2.add(tf.keras.layers.LSTM(16))  # 기본 LSTM layer 사용\n",
    "model2.add(tf.keras.layers.Dense(8, activation='relu'))\n",
    "model2.add(tf.keras.layers.Dense(1, activation='sigmoid'))\n",
    "\n",
    "model2.summary()\n"
   ]
  },
  {
   "cell_type": "code",
   "execution_count": 34,
   "id": "fa75f9d5",
   "metadata": {},
   "outputs": [
    {
     "name": "stdout",
     "output_type": "stream",
     "text": [
      "Model: \"sequential_8\"\n",
      "_________________________________________________________________\n",
      "Layer (type)                 Output Shape              Param #   \n",
      "=================================================================\n",
      "embedding_8 (Embedding)      (None, 41, 16)            160000    \n",
      "_________________________________________________________________\n",
      "simple_rnn_2 (SimpleRNN)     (None, 16)                528       \n",
      "_________________________________________________________________\n",
      "dense_16 (Dense)             (None, 8)                 136       \n",
      "_________________________________________________________________\n",
      "dense_17 (Dense)             (None, 1)                 9         \n",
      "=================================================================\n",
      "Total params: 160,673\n",
      "Trainable params: 160,673\n",
      "Non-trainable params: 0\n",
      "_________________________________________________________________\n"
     ]
    }
   ],
   "source": [
    "# 모델 3: RNN(SimpleRNN) 기반 모델\n",
    "\n",
    "model3 = tf.keras.Sequential()\n",
    "model3.add(tf.keras.layers.Embedding(vocab_size, word_vector_dim, input_length=maxlen))\n",
    "model3.add(tf.keras.layers.SimpleRNN(16))  # RNN 셀 사용\n",
    "model3.add(tf.keras.layers.Dense(8, activation='relu'))\n",
    "model3.add(tf.keras.layers.Dense(1, activation='sigmoid'))\n",
    "\n",
    "model3.summary()\n"
   ]
  },
  {
   "cell_type": "markdown",
   "id": "c6217102",
   "metadata": {},
   "source": [
    "# 5) 모델 훈련 개시 & # 6) Loss, Accuracy 그래프 시각화"
   ]
  },
  {
   "cell_type": "markdown",
   "id": "ee5d77d0",
   "metadata": {},
   "source": [
    "### pad_sequences의 사용\n",
    "- X_train, X_test, partial_x_train 등의 데이터가 np.array로 되어 있더라도, 그 내부에 여전히 list가 포함되어 있으면 안 됩니다."
   ]
  },
  {
   "cell_type": "code",
   "execution_count": 35,
   "id": "ac35f5da",
   "metadata": {},
   "outputs": [],
   "source": [
    "from tensorflow.keras.preprocessing.sequence import pad_sequences\n",
    "\n",
    "X_train = pad_sequences(X_train, maxlen=maxlen, padding='post', value=pad_index)\n",
    "X_test = pad_sequences(X_test, maxlen=maxlen, padding='post', value=pad_index)\n",
    "\n",
    "# 명시적으로 np.array 선언 (한 번 더 안전하게)\n",
    "X_train = np.array(X_train)\n",
    "X_test = np.array(X_test)\n",
    "y_train = np.array(y_train)\n",
    "y_test = np.array(y_test)\n",
    "\n",
    "\n",
    "# 10,000건을 validation set으로 분리\n",
    "x_val = X_train[:10000]\n",
    "y_val = y_train[:10000]\n",
    "\n",
    "# 나머지를 training set으로 사용\n",
    "partial_x_train = X_train[10000:]\n",
    "partial_y_train = y_train[10000:]"
   ]
  },
  {
   "cell_type": "code",
   "execution_count": 36,
   "id": "da179e51",
   "metadata": {},
   "outputs": [],
   "source": [
    "import matplotlib.pyplot as plt\n",
    "\n",
    "# 모델 리스트 정의\n",
    "def create_models():\n",
    "    models = []\n",
    "\n",
    "    # 모델 1: Conv1D + GlobalMaxPooling\n",
    "    model1 = tf.keras.Sequential([\n",
    "        tf.keras.layers.Embedding(vocab_size, word_vector_dim, input_length=maxlen),\n",
    "        tf.keras.layers.Conv1D(16, 7, activation='relu'),\n",
    "        tf.keras.layers.GlobalMaxPooling1D(),\n",
    "        tf.keras.layers.Dense(8, activation='relu'),\n",
    "        tf.keras.layers.Dense(1, activation='sigmoid')\n",
    "    ])\n",
    "    models.append(('Conv1D+GlobalMaxPool', model1))\n",
    "\n",
    "    # 모델 2: LSTM\n",
    "    model2 = tf.keras.Sequential([\n",
    "        tf.keras.layers.Embedding(vocab_size, word_vector_dim, input_length=maxlen),\n",
    "        tf.keras.layers.LSTM(16),\n",
    "        tf.keras.layers.Dense(8, activation='relu'),\n",
    "        tf.keras.layers.Dense(1, activation='sigmoid')\n",
    "    ])\n",
    "    models.append(('LSTM', model2))\n",
    "\n",
    "    # 모델 3: SimpleRNN\n",
    "    model3 = tf.keras.Sequential([\n",
    "        tf.keras.layers.Embedding(vocab_size, word_vector_dim, input_length=maxlen),\n",
    "        tf.keras.layers.SimpleRNN(16),\n",
    "        tf.keras.layers.Dense(8, activation='relu'),\n",
    "        tf.keras.layers.Dense(1, activation='sigmoid')\n",
    "    ])\n",
    "    models.append(('SimpleRNN', model3))\n",
    "\n",
    "    return models\n"
   ]
  },
  {
   "cell_type": "code",
   "execution_count": 37,
   "id": "f8a1712f",
   "metadata": {},
   "outputs": [
    {
     "name": "stdout",
     "output_type": "stream",
     "text": [
      "\n",
      " 학습 시작: Conv1D+GlobalMaxPool\n",
      "Epoch 1/20\n",
      "266/266 [==============================] - 2s 4ms/step - loss: 0.4830 - accuracy: 0.7808 - val_loss: 0.3519 - val_accuracy: 0.8462\n",
      "Epoch 2/20\n",
      "266/266 [==============================] - 1s 4ms/step - loss: 0.3306 - accuracy: 0.8593 - val_loss: 0.3385 - val_accuracy: 0.8512\n",
      "Epoch 3/20\n",
      "266/266 [==============================] - 1s 4ms/step - loss: 0.3003 - accuracy: 0.8751 - val_loss: 0.3338 - val_accuracy: 0.8568\n",
      "Epoch 4/20\n",
      "266/266 [==============================] - 1s 4ms/step - loss: 0.2778 - accuracy: 0.8864 - val_loss: 0.3377 - val_accuracy: 0.8567\n",
      "Epoch 5/20\n",
      "266/266 [==============================] - 1s 4ms/step - loss: 0.2574 - accuracy: 0.8969 - val_loss: 0.3424 - val_accuracy: 0.8559\n",
      "Epoch 6/20\n",
      "266/266 [==============================] - 1s 4ms/step - loss: 0.2362 - accuracy: 0.9081 - val_loss: 0.3524 - val_accuracy: 0.8533\n",
      "Epoch 7/20\n",
      "266/266 [==============================] - 1s 4ms/step - loss: 0.2136 - accuracy: 0.9191 - val_loss: 0.3695 - val_accuracy: 0.8497\n",
      "Epoch 8/20\n",
      "266/266 [==============================] - 1s 4ms/step - loss: 0.1909 - accuracy: 0.9301 - val_loss: 0.3820 - val_accuracy: 0.8450\n",
      "Epoch 9/20\n",
      "266/266 [==============================] - 1s 4ms/step - loss: 0.1692 - accuracy: 0.9401 - val_loss: 0.4038 - val_accuracy: 0.8467\n",
      "Epoch 10/20\n",
      "266/266 [==============================] - 1s 4ms/step - loss: 0.1489 - accuracy: 0.9487 - val_loss: 0.4429 - val_accuracy: 0.8411\n",
      "Epoch 11/20\n",
      "266/266 [==============================] - 1s 4ms/step - loss: 0.1311 - accuracy: 0.9565 - val_loss: 0.4664 - val_accuracy: 0.8401\n",
      "Epoch 12/20\n",
      "266/266 [==============================] - 1s 4ms/step - loss: 0.1148 - accuracy: 0.9628 - val_loss: 0.4989 - val_accuracy: 0.8368\n",
      "Epoch 13/20\n",
      "266/266 [==============================] - 1s 4ms/step - loss: 0.1020 - accuracy: 0.9681 - val_loss: 0.5348 - val_accuracy: 0.8371\n",
      "Epoch 14/20\n",
      "266/266 [==============================] - 1s 4ms/step - loss: 0.0907 - accuracy: 0.9721 - val_loss: 0.5716 - val_accuracy: 0.8349\n",
      "Epoch 15/20\n",
      "266/266 [==============================] - 1s 4ms/step - loss: 0.0813 - accuracy: 0.9754 - val_loss: 0.6156 - val_accuracy: 0.8305\n",
      "Epoch 16/20\n",
      "266/266 [==============================] - 1s 4ms/step - loss: 0.0729 - accuracy: 0.9781 - val_loss: 0.6451 - val_accuracy: 0.8291\n",
      "Epoch 17/20\n",
      "266/266 [==============================] - 1s 4ms/step - loss: 0.0661 - accuracy: 0.9806 - val_loss: 0.6753 - val_accuracy: 0.8279\n",
      "Epoch 18/20\n",
      "266/266 [==============================] - 1s 4ms/step - loss: 0.0604 - accuracy: 0.9822 - val_loss: 0.7272 - val_accuracy: 0.8260\n",
      "Epoch 19/20\n",
      "266/266 [==============================] - 1s 4ms/step - loss: 0.0556 - accuracy: 0.9834 - val_loss: 0.7595 - val_accuracy: 0.8276\n",
      "Epoch 20/20\n",
      "266/266 [==============================] - 1s 4ms/step - loss: 0.0512 - accuracy: 0.9847 - val_loss: 0.7973 - val_accuracy: 0.8238\n",
      "1537/1537 - 2s - loss: 0.8165 - accuracy: 0.8196\n"
     ]
    },
    {
     "data": {
      "image/png": "[encoded data removed]",
      "text/plain": [
       "<Figure size 864x288 with 2 Axes>"
      ]
     },
     "metadata": {
      "needs_background": "light"
     },
     "output_type": "display_data"
    },
    {
     "name": "stdout",
     "output_type": "stream",
     "text": [
      "\n",
      " 학습 시작: LSTM\n",
      "Epoch 1/20\n",
      "266/266 [==============================] - 3s 8ms/step - loss: 0.5147 - accuracy: 0.7110 - val_loss: 0.3531 - val_accuracy: 0.8482\n",
      "Epoch 2/20\n",
      "266/266 [==============================] - 1s 5ms/step - loss: 0.3414 - accuracy: 0.8544 - val_loss: 0.3426 - val_accuracy: 0.8518\n",
      "Epoch 3/20\n",
      "266/266 [==============================] - 1s 5ms/step - loss: 0.3205 - accuracy: 0.8644 - val_loss: 0.3532 - val_accuracy: 0.8500\n",
      "Epoch 4/20\n",
      "266/266 [==============================] - 1s 5ms/step - loss: 0.3117 - accuracy: 0.8680 - val_loss: 0.3423 - val_accuracy: 0.8492\n",
      "Epoch 5/20\n",
      "266/266 [==============================] - 1s 5ms/step - loss: 0.3033 - accuracy: 0.8724 - val_loss: 0.3441 - val_accuracy: 0.8472\n",
      "Epoch 6/20\n",
      "266/266 [==============================] - 1s 5ms/step - loss: 0.2969 - accuracy: 0.8754 - val_loss: 0.3470 - val_accuracy: 0.8509\n",
      "Epoch 7/20\n",
      "266/266 [==============================] - 1s 5ms/step - loss: 0.2904 - accuracy: 0.8763 - val_loss: 0.3508 - val_accuracy: 0.8485\n",
      "Epoch 8/20\n",
      "266/266 [==============================] - 1s 5ms/step - loss: 0.2781 - accuracy: 0.8805 - val_loss: 0.3567 - val_accuracy: 0.8498\n",
      "Epoch 9/20\n",
      "266/266 [==============================] - 1s 5ms/step - loss: 0.2694 - accuracy: 0.8835 - val_loss: 0.3791 - val_accuracy: 0.8489\n",
      "Epoch 10/20\n",
      "266/266 [==============================] - 1s 5ms/step - loss: 0.2595 - accuracy: 0.8874 - val_loss: 0.3648 - val_accuracy: 0.8485\n",
      "Epoch 11/20\n",
      "266/266 [==============================] - 1s 5ms/step - loss: 0.2501 - accuracy: 0.8916 - val_loss: 0.3672 - val_accuracy: 0.8530\n",
      "Epoch 12/20\n",
      "266/266 [==============================] - 1s 5ms/step - loss: 0.2421 - accuracy: 0.8954 - val_loss: 0.3855 - val_accuracy: 0.8521\n",
      "Epoch 13/20\n",
      "266/266 [==============================] - 1s 5ms/step - loss: 0.2346 - accuracy: 0.8981 - val_loss: 0.3907 - val_accuracy: 0.8496\n",
      "Epoch 14/20\n",
      "266/266 [==============================] - 1s 5ms/step - loss: 0.2275 - accuracy: 0.9015 - val_loss: 0.3978 - val_accuracy: 0.8454\n",
      "Epoch 15/20\n",
      "266/266 [==============================] - 1s 5ms/step - loss: 0.2203 - accuracy: 0.9046 - val_loss: 0.4086 - val_accuracy: 0.8473\n",
      "Epoch 16/20\n",
      "266/266 [==============================] - 1s 5ms/step - loss: 0.2149 - accuracy: 0.9072 - val_loss: 0.4100 - val_accuracy: 0.8439\n",
      "Epoch 17/20\n",
      "266/266 [==============================] - 1s 5ms/step - loss: 0.2077 - accuracy: 0.9110 - val_loss: 0.4227 - val_accuracy: 0.8472\n",
      "Epoch 18/20\n",
      "266/266 [==============================] - 1s 5ms/step - loss: 0.2010 - accuracy: 0.9142 - val_loss: 0.4462 - val_accuracy: 0.8493\n",
      "Epoch 19/20\n",
      "266/266 [==============================] - 1s 5ms/step - loss: 0.1943 - accuracy: 0.9164 - val_loss: 0.4336 - val_accuracy: 0.8495\n",
      "Epoch 20/20\n",
      "266/266 [==============================] - 1s 5ms/step - loss: 0.1886 - accuracy: 0.9194 - val_loss: 0.4393 - val_accuracy: 0.8468\n",
      "1537/1537 - 3s - loss: 0.4484 - accuracy: 0.8419\n"
     ]
    },
    {
     "data": {
      "image/png": "[encoded data removed]",
      "text/plain": [
       "<Figure size 864x288 with 2 Axes>"
      ]
     },
     "metadata": {
      "needs_background": "light"
     },
     "output_type": "display_data"
    },
    {
     "name": "stdout",
     "output_type": "stream",
     "text": [
      "\n",
      " 학습 시작: SimpleRNN\n",
      "Epoch 1/20\n",
      "266/266 [==============================] - 10s 35ms/step - loss: 0.5075 - accuracy: 0.7491 - val_loss: 0.4366 - val_accuracy: 0.8093\n",
      "Epoch 2/20\n",
      "266/266 [==============================] - 9s 35ms/step - loss: 0.3879 - accuracy: 0.8319 - val_loss: 0.3965 - val_accuracy: 0.8247\n",
      "Epoch 3/20\n",
      "266/266 [==============================] - 9s 35ms/step - loss: 0.3564 - accuracy: 0.8485 - val_loss: 0.3909 - val_accuracy: 0.8279\n",
      "Epoch 4/20\n",
      "266/266 [==============================] - 9s 34ms/step - loss: 0.3360 - accuracy: 0.8593 - val_loss: 0.3970 - val_accuracy: 0.8304\n",
      "Epoch 5/20\n",
      "266/266 [==============================] - 9s 34ms/step - loss: 0.3224 - accuracy: 0.8654 - val_loss: 0.3947 - val_accuracy: 0.8279\n",
      "Epoch 6/20\n",
      "266/266 [==============================] - 9s 34ms/step - loss: 0.3081 - accuracy: 0.8724 - val_loss: 0.3993 - val_accuracy: 0.8284\n",
      "Epoch 7/20\n",
      "266/266 [==============================] - 9s 34ms/step - loss: 0.2918 - accuracy: 0.8808 - val_loss: 0.4027 - val_accuracy: 0.8261\n",
      "Epoch 8/20\n",
      "266/266 [==============================] - 9s 34ms/step - loss: 0.2752 - accuracy: 0.8897 - val_loss: 0.4266 - val_accuracy: 0.8261\n",
      "Epoch 9/20\n",
      "266/266 [==============================] - 9s 34ms/step - loss: 0.2589 - accuracy: 0.8973 - val_loss: 0.4312 - val_accuracy: 0.8250\n",
      "Epoch 10/20\n",
      "266/266 [==============================] - 9s 34ms/step - loss: 0.2466 - accuracy: 0.9043 - val_loss: 0.4420 - val_accuracy: 0.8257\n",
      "Epoch 11/20\n",
      "266/266 [==============================] - 9s 34ms/step - loss: 0.2247 - accuracy: 0.9146 - val_loss: 0.4604 - val_accuracy: 0.8208\n",
      "Epoch 12/20\n",
      "266/266 [==============================] - 9s 34ms/step - loss: 0.2144 - accuracy: 0.9207 - val_loss: 0.5618 - val_accuracy: 0.8028\n",
      "Epoch 13/20\n",
      "266/266 [==============================] - 9s 35ms/step - loss: 0.1961 - accuracy: 0.9289 - val_loss: 0.4775 - val_accuracy: 0.8228\n",
      "Epoch 14/20\n",
      "266/266 [==============================] - 9s 35ms/step - loss: 0.1793 - accuracy: 0.9368 - val_loss: 0.5617 - val_accuracy: 0.8131\n",
      "Epoch 15/20\n",
      "266/266 [==============================] - 9s 34ms/step - loss: 0.1669 - accuracy: 0.9426 - val_loss: 0.5184 - val_accuracy: 0.8169\n",
      "Epoch 16/20\n",
      "266/266 [==============================] - 9s 35ms/step - loss: 0.1598 - accuracy: 0.9456 - val_loss: 0.5464 - val_accuracy: 0.8153\n",
      "Epoch 17/20\n",
      "266/266 [==============================] - 9s 34ms/step - loss: 0.1425 - accuracy: 0.9528 - val_loss: 0.5580 - val_accuracy: 0.8188\n",
      "Epoch 18/20\n",
      "266/266 [==============================] - 9s 34ms/step - loss: 0.1321 - accuracy: 0.9571 - val_loss: 0.5884 - val_accuracy: 0.8082\n",
      "Epoch 19/20\n",
      "266/266 [==============================] - 9s 34ms/step - loss: 0.1267 - accuracy: 0.9593 - val_loss: 0.6160 - val_accuracy: 0.8069\n",
      "Epoch 20/20\n",
      "266/266 [==============================] - 9s 34ms/step - loss: 0.1220 - accuracy: 0.9617 - val_loss: 0.6127 - val_accuracy: 0.8072\n",
      "1537/1537 - 6s - loss: 0.6312 - accuracy: 0.8013\n"
     ]
    },
    {
     "data": {
      "image/png": "[encoded data removed]",
      "text/plain": [
       "<Figure size 864x288 with 2 Axes>"
      ]
     },
     "metadata": {
      "needs_background": "light"
     },
     "output_type": "display_data"
    }
   ],
   "source": [
    "models = create_models()\n",
    "results_all = []\n",
    "\n",
    "for model_name, model in models:\n",
    "    print(f\"\\n 학습 시작: {model_name}\")\n",
    "\n",
    "    # 모델 컴파일\n",
    "    model.compile(optimizer='adam',\n",
    "                  loss='binary_crossentropy',\n",
    "                  metrics=['accuracy'])\n",
    "\n",
    "    # 모델 학습\n",
    "    history = model.fit(partial_x_train, partial_y_train,\n",
    "                        epochs=20,\n",
    "                        batch_size=512,\n",
    "                        validation_data=(x_val, y_val),\n",
    "                        verbose=1)\n",
    "\n",
    "    # 테스트 평가\n",
    "    results = model.evaluate(X_test, y_test, verbose=2)\n",
    "    results_all.append((model_name, results[0], results[1]))  # (이름, loss, acc)\n",
    "    \n",
    "     # 학습 결과 시각화\n",
    "    history_dict = history.history\n",
    "    acc = history_dict['accuracy']\n",
    "    val_acc = history_dict['val_accuracy']\n",
    "    loss = history_dict['loss']\n",
    "    val_loss = history_dict['val_loss']\n",
    "    epochs_range = range(1, len(acc) + 1)\n",
    "\n",
    "    # Loss 그래프\n",
    "    plt.figure(figsize=(12, 4))\n",
    "    plt.subplot(1, 2, 1)\n",
    "    plt.plot(epochs_range, loss, 'bo', label='Training loss')\n",
    "    plt.plot(epochs_range, val_loss, 'b', label='Validation loss')\n",
    "    plt.title(f'{model_name} - Loss')\n",
    "    plt.xlabel('Epochs')\n",
    "    plt.ylabel('Loss')\n",
    "    plt.legend()\n",
    "\n",
    "    # Accuracy 그래프\n",
    "    plt.subplot(1, 2, 2)\n",
    "    plt.plot(epochs_range, acc, 'bo', label='Training acc')\n",
    "    plt.plot(epochs_range, val_acc, 'b', label='Validation acc')\n",
    "    plt.title(f'{model_name} - Accuracy')\n",
    "    plt.xlabel('Epochs')\n",
    "    plt.ylabel('Accuracy')\n",
    "    plt.legend()\n",
    "\n",
    "    plt.tight_layout()\n",
    "    plt.show()"
   ]
  },
  {
   "cell_type": "code",
   "execution_count": 38,
   "id": "5e180647",
   "metadata": {},
   "outputs": [
    {
     "name": "stdout",
     "output_type": "stream",
     "text": [
      "\n",
      " 모델별 테스트 결과 비교:\n",
      "                  Model  Test Loss  Test Accuracy\n",
      "0  Conv1D+GlobalMaxPool   0.816457       0.819598\n",
      "1                  LSTM   0.448380       0.841874\n",
      "2             SimpleRNN   0.631211       0.801290\n"
     ]
    }
   ],
   "source": [
    "import pandas as pd\n",
    "\n",
    "results_df = pd.DataFrame(results_all, columns=['Model', 'Test Loss', 'Test Accuracy'])\n",
    "print(\"\\n 모델별 테스트 결과 비교:\")\n",
    "print(results_df)\n"
   ]
  },
  {
   "attachments": {
    "image.png": {
     "image/png": "[encoded data removed]"
    }
   },
   "cell_type": "markdown",
   "id": "bc798470",
   "metadata": {},
   "source": [
    "![image.png](attachment:image.png)"
   ]
  },
  {
   "cell_type": "markdown",
   "id": "ee2b5f26",
   "metadata": {},
   "source": [
    "# 7) 학습된 Embedding 레이어 분석\n"
   ]
  },
  {
   "cell_type": "code",
   "execution_count": 43,
   "id": "0bba52d1",
   "metadata": {},
   "outputs": [
    {
     "name": "stdout",
     "output_type": "stream",
     "text": [
      "(10000, 16)\n"
     ]
    }
   ],
   "source": [
    "# 1. 학습된 임베딩 가중치 가져오기\n",
    "\n",
    "embedding_layer = model.layers[0]\n",
    "weights = embedding_layer.get_weights()[0]\n",
    "print(weights.shape)    # shape: (vocab_size, embedding_dim)"
   ]
  },
  {
   "cell_type": "code",
   "execution_count": 44,
   "id": "cfae2b58",
   "metadata": {},
   "outputs": [],
   "source": [
    "# 2. 학습된 임베딩을 파일로 저장하기\n",
    "import os\n",
    "# 학습한 Embedding 파라미터를 파일에 써서 저장합니다. \n",
    "word2vec_file_path = os.getenv('HOME')+'/aiffel/sentiment_classification/data/word2vec.txt'\n",
    "f = open(word2vec_file_path, 'w')\n",
    "f.write('{} {}\\n'.format(vocab_size-4, word_vector_dim))  # 몇개의 벡터를 얼마 사이즈로 기재할지 타이틀을 씁니다.\n",
    "\n",
    "# 단어 개수(에서 특수문자 4개는 제외하고)만큼의 워드 벡터를 파일에 기록합니다. \n",
    "vectors = model.get_weights()[0]\n",
    "for i in range(4,vocab_size):\n",
    "    f.write('{} {}\\n'.format(index_to_word[i], ' '.join(map(str, list(vectors[i, :])))))\n",
    "f.close()"
   ]
  },
  {
   "cell_type": "code",
   "execution_count": 45,
   "id": "75a22478",
   "metadata": {},
   "outputs": [
    {
     "name": "stdout",
     "output_type": "stream",
     "text": [
      "[('중독자', 0.9137664437294006), ('~~!!', 0.9012354612350464), ('메마른', 0.8991241455078125), ('^^~', 0.894447922706604), ('정겹', 0.8910658955574036)]\n"
     ]
    }
   ],
   "source": [
    "# 3. 저장된 임베딩 불러와 분석하기\n",
    "\n",
    "from gensim.models.keyedvectors import Word2VecKeyedVectors\n",
    "\n",
    "word_vectors = Word2VecKeyedVectors.load_word2vec_format(word2vec_file_path, binary=False)\n",
    "\n",
    "# 유사 단어 찾기\n",
    "similar_words = word_vectors.similar_by_word(\"사랑\", topn=5)\n",
    "print(similar_words)\n"
   ]
  },
  {
   "cell_type": "markdown",
   "id": "741b834e",
   "metadata": {},
   "source": [
    "# 8) 한국어 Word2Vec 임베딩 활용하여 성능 개선"
   ]
  },
  {
   "cell_type": "code",
   "execution_count": 46,
   "id": "e760ff88",
   "metadata": {},
   "outputs": [
    {
     "name": "stdout",
     "output_type": "stream",
     "text": [
      "벡터 차원: (100,)\n",
      "벡터 값: [ 3.2565942  -0.85421413 -3.6964011   1.0956469   0.599815   -1.9681435\n",
      "  0.32379073 -1.0716053  -1.1776937   2.0442047   2.2501915  -2.7868037\n",
      " -2.702359   -0.9775915  -0.12478333  0.28235647  0.77683175 -1.5393747\n",
      "  2.0879042  -5.444462   -4.931412    0.8532094   0.11118065 -2.743522\n",
      "  0.7902363   0.10469969 -0.56074625  1.6684421   1.0278419  -3.8816829\n",
      " -3.606887   -3.120771   -1.2527398  -0.77196646 -1.0102901   3.331668\n",
      "  0.30032924  1.2074511  -1.2813627   2.6281219  -1.4624823  -1.1354805\n",
      "  0.7605239   2.83577    -1.199358    3.1347232   4.062026   -0.23413125\n",
      "  3.205856   -0.9567054   0.77167803 -1.4300145   2.9014013  -3.940087\n",
      " -3.234169   -5.5460634   0.6185009  -0.75793767  2.1043491   2.350599\n",
      "  2.9313247  -2.235593    3.2084036  -5.594638    1.6516634  -0.32628602\n",
      " -1.8824683  -1.5573231  -1.8452163  -1.4044309   4.872565   -2.1063929\n",
      " -0.32347348  1.9946551  -4.0967984  -1.4509655  -0.09111219 -4.458617\n",
      "  0.06598099 -2.211754    3.0731246  -0.06910119  2.2555242   2.0823317\n",
      " -0.58695716 -3.1035714   2.4014452   3.4731216   1.424459   -4.313935\n",
      " -3.5665336  -6.5203366  -2.1090846  -3.2797608   0.4331985   1.1721823\n",
      "  1.8870457  -0.08832774  5.423067   -3.8484313 ]\n",
      " 유사한 단어:\n",
      "이별 (0.7626)\n",
      "행복 (0.7550)\n",
      "슬픔 (0.7382)\n",
      "유혹 (0.7238)\n",
      "그리움 (0.7167)\n"
     ]
    }
   ],
   "source": [
    "from gensim.models import Word2Vec\n",
    "\n",
    "# 1. 경로 \n",
    "word2vec_file_path = '/aiffel/data/word2vec_ko.model'\n",
    "\n",
    "# 2. 모델 불러오기\n",
    "word2vec_model = Word2Vec.load(word2vec_file_path)\n",
    "\n",
    "# 3. 벡터 접근을 위해 .wv 사용\n",
    "word_vectors = word2vec_model.wv\n",
    "\n",
    "# 4. 단어 벡터 확인\n",
    "vector = word_vectors[\"사랑\"]\n",
    "print(\"벡터 차원:\", vector.shape)\n",
    "print(\"벡터 값:\", vector)\n",
    "\n",
    "# 5. 유사 단어 찾기\n",
    "similar_words = word_vectors.most_similar(\"사랑\", topn=5)\n",
    "print(\" 유사한 단어:\")\n",
    "for word, score in similar_words:\n",
    "    print(f\"{word} ({score:.4f})\")\n"
   ]
  },
  {
   "cell_type": "code",
   "execution_count": 48,
   "id": "5327064a",
   "metadata": {},
   "outputs": [
    {
     "name": "stdout",
     "output_type": "stream",
     "text": [
      "Model: \"sequential_12\"\n",
      "_________________________________________________________________\n",
      "Layer (type)                 Output Shape              Param #   \n",
      "=================================================================\n",
      "embedding_12 (Embedding)     (None, 41, 100)           1000000   \n",
      "_________________________________________________________________\n",
      "lstm_4 (LSTM)                (None, 64)                42240     \n",
      "_________________________________________________________________\n",
      "dense_24 (Dense)             (None, 1)                 65        \n",
      "=================================================================\n",
      "Total params: 1,042,305\n",
      "Trainable params: 42,305\n",
      "Non-trainable params: 1,000,000\n",
      "_________________________________________________________________\n",
      "Epoch 1/10\n",
      "266/266 [==============================] - 3s 7ms/step - loss: 0.5064 - accuracy: 0.7461 - val_loss: 0.4376 - val_accuracy: 0.7948\n",
      "Epoch 2/10\n",
      "266/266 [==============================] - 1s 5ms/step - loss: 0.4129 - accuracy: 0.8124 - val_loss: 0.3987 - val_accuracy: 0.8194\n",
      "Epoch 3/10\n",
      "266/266 [==============================] - 1s 5ms/step - loss: 0.3827 - accuracy: 0.8272 - val_loss: 0.3976 - val_accuracy: 0.8233\n",
      "Epoch 4/10\n",
      "266/266 [==============================] - 1s 5ms/step - loss: 0.3658 - accuracy: 0.8360 - val_loss: 0.3740 - val_accuracy: 0.8315\n",
      "Epoch 5/10\n",
      "266/266 [==============================] - 1s 5ms/step - loss: 0.3484 - accuracy: 0.8470 - val_loss: 0.3711 - val_accuracy: 0.8317\n",
      "Epoch 6/10\n",
      "266/266 [==============================] - 1s 5ms/step - loss: 0.3356 - accuracy: 0.8528 - val_loss: 0.3675 - val_accuracy: 0.8361\n",
      "Epoch 7/10\n",
      "266/266 [==============================] - 1s 5ms/step - loss: 0.3274 - accuracy: 0.8564 - val_loss: 0.3696 - val_accuracy: 0.8344\n",
      "Epoch 8/10\n",
      "266/266 [==============================] - 1s 5ms/step - loss: 0.3169 - accuracy: 0.8622 - val_loss: 0.3655 - val_accuracy: 0.8380\n",
      "Epoch 9/10\n",
      "266/266 [==============================] - 1s 5ms/step - loss: 0.3082 - accuracy: 0.8666 - val_loss: 0.3624 - val_accuracy: 0.8398\n",
      "Epoch 10/10\n",
      "266/266 [==============================] - 1s 5ms/step - loss: 0.3018 - accuracy: 0.8698 - val_loss: 0.3644 - val_accuracy: 0.8411\n",
      "1537/1537 - 3s - loss: 0.3698 - accuracy: 0.8378\n",
      "\n",
      "✅ Word2Vec 적용 모델 정확도: 83.78%\n"
     ]
    }
   ],
   "source": [
    "from tensorflow.keras.models import Sequential\n",
    "from tensorflow.keras.layers import Embedding, LSTM, Dense\n",
    "\n",
    "# 1. 정확한 vocab_size 계산\n",
    "vocab_size = max(word_to_index.values()) + 1\n",
    "embedding_dim = 100\n",
    "\n",
    "\n",
    "# 2. Word2Vec 벡터를 embedding_matrix로 매핑\n",
    "embedding_matrix = np.zeros((vocab_size, embedding_dim))\n",
    "for word, i in word_to_index.items():\n",
    "    if i < vocab_size and word in word_vectors:\n",
    "        embedding_matrix[i] = word_vectors[word]\n",
    "\n",
    "# 3. Embedding Layer 구성\n",
    "embedding_layer = Embedding(input_dim=vocab_size,\n",
    "                            output_dim=embedding_dim,\n",
    "                            weights=[embedding_matrix],\n",
    "                            input_length=maxlen,\n",
    "                            trainable=False)\n",
    "# trainable=False이면 word2vec 벡터를 고정해서 사용하는 것이고,\n",
    "# trainable=True로 바꾸면 **미세조정(fine-tuning)**을 하게 됩니다.\n",
    "\n",
    "# 4. 모델 정의 (LSTM 기반 예시)\n",
    "model_w2v = Sequential()\n",
    "model_w2v.add(embedding_layer)\n",
    "model_w2v.add(LSTM(64))  # 조금 더 표현력 있는 모델\n",
    "model_w2v.add(Dense(1, activation='sigmoid'))\n",
    "\n",
    "# 5. 컴파일 및 학습\n",
    "model_w2v.compile(optimizer='adam', loss='binary_crossentropy', metrics=['accuracy'])\n",
    "model_w2v.summary()\n",
    "\n",
    "# 6. 훈련\n",
    "history = model_w2v.fit(partial_x_train, partial_y_train,\n",
    "                        epochs=10,\n",
    "                        batch_size=512,\n",
    "                        validation_data=(x_val, y_val),\n",
    "                        verbose=1)\n",
    "\n",
    "# 7. 평가\n",
    "loss, acc = model_w2v.evaluate(X_test, y_test, verbose=2)\n",
    "print(f\"\\n Word2Vec 적용 모델 정확도: {acc * 100:.2f}%\")"
   ]
  },
  {
   "cell_type": "code",
   "execution_count": 52,
   "id": "1cc87b77",
   "metadata": {},
   "outputs": [
    {
     "name": "stdout",
     "output_type": "stream",
     "text": [
      "Model: \"sequential_15\"\n",
      "_________________________________________________________________\n",
      "Layer (type)                 Output Shape              Param #   \n",
      "=================================================================\n",
      "embedding_14 (Embedding)     (None, 41, 100)           1000000   \n",
      "_________________________________________________________________\n",
      "bidirectional (Bidirectional (None, 128)               84480     \n",
      "_________________________________________________________________\n",
      "dense_26 (Dense)             (None, 1)                 129       \n",
      "=================================================================\n",
      "Total params: 1,084,609\n",
      "Trainable params: 1,084,609\n",
      "Non-trainable params: 0\n",
      "_________________________________________________________________\n",
      "Epoch 1/10\n",
      "266/266 [==============================] - 6s 13ms/step - loss: 0.4610 - accuracy: 0.7776 - val_loss: 0.3724 - val_accuracy: 0.8339\n",
      "Epoch 2/10\n",
      "266/266 [==============================] - 3s 11ms/step - loss: 0.3420 - accuracy: 0.8504 - val_loss: 0.3334 - val_accuracy: 0.8562\n",
      "Epoch 3/10\n",
      "266/266 [==============================] - 3s 11ms/step - loss: 0.2982 - accuracy: 0.8727 - val_loss: 0.3215 - val_accuracy: 0.8570\n",
      "Epoch 4/10\n",
      "266/266 [==============================] - 3s 11ms/step - loss: 0.2707 - accuracy: 0.8870 - val_loss: 0.3164 - val_accuracy: 0.8637\n",
      "Epoch 5/10\n",
      "266/266 [==============================] - 3s 11ms/step - loss: 0.2476 - accuracy: 0.8983 - val_loss: 0.3234 - val_accuracy: 0.8620\n",
      "Epoch 6/10\n",
      "266/266 [==============================] - 3s 11ms/step - loss: 0.2262 - accuracy: 0.9085 - val_loss: 0.3363 - val_accuracy: 0.8578\n",
      "Epoch 7/10\n",
      "266/266 [==============================] - 3s 11ms/step - loss: 0.2067 - accuracy: 0.9178 - val_loss: 0.3394 - val_accuracy: 0.8595\n",
      "Epoch 8/10\n",
      "266/266 [==============================] - 3s 11ms/step - loss: 0.1885 - accuracy: 0.9261 - val_loss: 0.3476 - val_accuracy: 0.8586\n",
      "Epoch 9/10\n",
      "266/266 [==============================] - 3s 11ms/step - loss: 0.1700 - accuracy: 0.9346 - val_loss: 0.3851 - val_accuracy: 0.8492\n",
      "Epoch 10/10\n",
      "266/266 [==============================] - 3s 11ms/step - loss: 0.1533 - accuracy: 0.9422 - val_loss: 0.4047 - val_accuracy: 0.8542\n",
      "1537/1537 - 4s - loss: 0.4105 - accuracy: 0.8518\n",
      "\n",
      " Word2Vec 적용 모델 정확도: 85.18%\n"
     ]
    }
   ],
   "source": [
    "from tensorflow.keras.layers import Bidirectional\n",
    "\n",
    "# 1. 정확한 vocab_size 계산\n",
    "vocab_size = max(word_to_index.values()) + 1\n",
    "embedding_dim = 100\n",
    "\n",
    "\n",
    "# 2. Word2Vec 벡터를 embedding_matrix로 매핑\n",
    "embedding_matrix = np.zeros((vocab_size, embedding_dim))\n",
    "for word, i in word_to_index.items():\n",
    "    if i < vocab_size and word in word_vectors:\n",
    "        embedding_matrix[i] = word_vectors[word]\n",
    "\n",
    "# 3. Embedding Layer 구성\n",
    "embedding_layer = Embedding(input_dim=vocab_size,\n",
    "                            output_dim=embedding_dim,\n",
    "                            weights=[embedding_matrix],\n",
    "                            input_length=maxlen,\n",
    "                           trainable=True)                # 미세조정 허용\n",
    "\n",
    "\n",
    "# 4. 모델 정의 (LSTM 기반 예시)\n",
    "model_w2v = Sequential()\n",
    "model_w2v.add(embedding_layer)\n",
    "model_w2v.add(Bidirectional(LSTM(64)))                    # 양방향\n",
    "model_w2v.add(Dense(1, activation='sigmoid'))\n",
    "\n",
    "# 5. 컴파일 및 학습\n",
    "model_w2v.compile(optimizer='adam', loss='binary_crossentropy', metrics=['accuracy'])\n",
    "model_w2v.summary()\n",
    "\n",
    "# 6. 훈련\n",
    "history = model_w2v.fit(partial_x_train, partial_y_train,\n",
    "                        epochs=10,\n",
    "                        batch_size=512,\n",
    "                        validation_data=(x_val, y_val),\n",
    "                        verbose=1)\n",
    "\n",
    "# 7. 평가\n",
    "loss, acc = model_w2v.evaluate(X_test, y_test, verbose=2)\n",
    "print(f\"\\n Word2Vec 적용 모델 정확도: {acc * 100:.2f}%\")"
   ]
  },
  {
   "cell_type": "markdown",
   "id": "1b8c204e",
   "metadata": {},
   "source": [
    "- [1] Bidirectional LSTM 적용\n",
    "- [2] Fine-tuning (trainable=True) 으로 임베딩 조정 허용\n",
    "- Word2Vec + BiLSTM + Fine-tuning"
   ]
  },
  {
   "cell_type": "code",
   "execution_count": null,
   "id": "4882d99b",
   "metadata": {},
   "outputs": [],
   "source": []
  },
  {
   "cell_type": "code",
   "execution_count": null,
   "id": "ec9efc18",
   "metadata": {},
   "outputs": [],
   "source": []
  },
  {
   "cell_type": "code",
   "execution_count": null,
   "id": "ed455766",
   "metadata": {},
   "outputs": [],
   "source": []
  },
  {
   "cell_type": "code",
   "execution_count": null,
   "id": "df5c5fce",
   "metadata": {},
   "outputs": [],
   "source": []
  }
 ],
 "metadata": {
  "kernelspec": {
   "display_name": "Python 3 (ipykernel)",
   "language": "python",
   "name": "python3"
  },
  "language_info": {
   "codemirror_mode": {
    "name": "ipython",
    "version": 3
   },
   "file_extension": ".py",
   "mimetype": "text/x-python",
   "name": "python",
   "nbconvert_exporter": "python",
   "pygments_lexer": "ipython3",
   "version": "3.9.7"
  }
 },
 "nbformat": 4,
 "nbformat_minor": 5
}
