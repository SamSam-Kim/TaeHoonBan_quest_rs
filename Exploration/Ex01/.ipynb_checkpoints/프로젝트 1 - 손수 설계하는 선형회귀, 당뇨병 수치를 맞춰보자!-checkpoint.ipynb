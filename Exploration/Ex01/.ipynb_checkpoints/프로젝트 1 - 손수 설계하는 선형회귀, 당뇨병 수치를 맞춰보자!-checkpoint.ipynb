{
 "cells": [
  {
   "cell_type": "code",
   "execution_count": 84,
   "id": "83773924",
   "metadata": {},
   "outputs": [],
   "source": [
    "from sklearn.datasets import load_diabetes\n",
    "import pandas as pd\n",
    "\n",
    "diabetes = load_diabetes()\n",
    "\n",
    "df_X = pd.DataFrame(diabetes.data, columns=diabetes.feature_names)\n",
    "df_y = pd.Series(diabetes.target)\n",
    "\n"
   ]
  },
  {
   "cell_type": "code",
   "execution_count": 85,
   "id": "42d9ba13",
   "metadata": {},
   "outputs": [],
   "source": [
    "X = df_X.values"
   ]
  },
  {
   "cell_type": "code",
   "execution_count": 86,
   "id": "0098841c",
   "metadata": {},
   "outputs": [],
   "source": [
    "y = df_y.values "
   ]
  },
  {
   "cell_type": "code",
   "execution_count": 87,
   "id": "e52af615",
   "metadata": {},
   "outputs": [],
   "source": [
    "from sklearn.model_selection import train_test_split\n",
    "\n",
    "X_train, X_test, y_train, y_test = train_test_split(X, y, test_size=0.2, random_state=42)"
   ]
  },
  {
   "cell_type": "code",
   "execution_count": 88,
   "id": "999e6275",
   "metadata": {},
   "outputs": [],
   "source": [
    "import numpy as np\n",
    "\n",
    "W = np.ones(X_train.shape[1])\n",
    "b = 0\n",
    "\n",
    "def model(X, W, b):\n",
    "    predictions = 0\n",
    "    for i in range(X.shape[1]):\n",
    "        predictions += X[:, i] * W[i]\n",
    "    predictions += b\n",
    "    return predictions"
   ]
  },
  {
   "cell_type": "code",
   "execution_count": 89,
   "id": "9970456a",
   "metadata": {},
   "outputs": [],
   "source": [
    "def MSE(y_pred, y_true):\n",
    "    mse = ((y_pred - y_true) ** 2).mean()\n",
    "    return mse\n",
    "\n",
    "def loss(X, W, b, y):\n",
    "    predictions = model(X, W, b)\n",
    "    return MSE(predictions, y)"
   ]
  },
  {
   "cell_type": "code",
   "execution_count": 90,
   "id": "2f3866a2",
   "metadata": {},
   "outputs": [],
   "source": [
    "def gradient(X, W, b, y):\n",
    "    N = len(y)\n",
    "    y_pred = model(X, W, b) - y\n",
    "    dW = (2/N) * np.dot(X.T,y_pred )\n",
    "    db = (2/N) * np.sum(y_pred)\n",
    "    return dW, db\n"
   ]
  },
  {
   "cell_type": "code",
   "execution_count": 96,
   "id": "28255710",
   "metadata": {},
   "outputs": [],
   "source": [
    "LEARNING_RATE = 0.01\n"
   ]
  },
  {
   "cell_type": "code",
   "execution_count": 97,
   "id": "87532032",
   "metadata": {},
   "outputs": [
    {
     "name": "stdout",
     "output_type": "stream",
     "text": [
      "Epoch 10000 : Loss 3077.0407\n",
      "Epoch 20000 : Loss 3061.4643\n",
      "Epoch 30000 : Loss 3047.3725\n",
      "Epoch 40000 : Loss 3034.6051\n",
      "Epoch 50000 : Loss 3023.0230\n",
      "Epoch 60000 : Loss 3012.5047\n",
      "Epoch 70000 : Loss 3002.9434\n",
      "Epoch 80000 : Loss 2994.2445\n",
      "Epoch 90000 : Loss 2986.3239\n",
      "Epoch 100000 : Loss 2979.1068\n",
      "Epoch 110000 : Loss 2972.5261\n",
      "Epoch 120000 : Loss 2966.5218\n",
      "Epoch 130000 : Loss 2961.0400\n",
      "Epoch 140000 : Loss 2956.0320\n",
      "Epoch 150000 : Loss 2951.4541\n",
      "Epoch 160000 : Loss 2947.2669\n",
      "Epoch 170000 : Loss 2943.4348\n",
      "Epoch 180000 : Loss 2939.9256\n",
      "Epoch 190000 : Loss 2936.7101\n",
      "Epoch 200000 : Loss 2933.7621\n"
     ]
    }
   ],
   "source": [
    "losses = []\n",
    "\n",
    "for epoch in range(1, 200001):\n",
    "    dW, db = gradient(X_train, W, b, y_train)\n",
    "    W -= learning_rate * dW\n",
    "    b -= learning_rate * db\n",
    "\n",
    "    L = loss(X_train, W, b, y_train)\n",
    "    losses.append(L)\n",
    "\n",
    "    if epoch % 10000 == 0:\n",
    "        print(f\"Epoch {epoch} : Loss {L:.4f}\")\n"
   ]
  },
  {
   "cell_type": "code",
   "execution_count": 98,
   "id": "bc36aa0f",
   "metadata": {},
   "outputs": [
    {
     "name": "stdout",
     "output_type": "stream",
     "text": [
      "Test MSE: 2864.6246\n"
     ]
    }
   ],
   "source": [
    "test_loss = loss(X_test, W, b, y_test)\n",
    "print(f\"Test MSE: {test_loss:.4f}\")\n"
   ]
  },
  {
   "cell_type": "code",
   "execution_count": 100,
   "id": "314da8ba",
   "metadata": {},
   "outputs": [
    {
     "data": {
      "image/png": "[encoded data removed]",
      "text/plain": [
       "<Figure size 432x288 with 1 Axes>"
      ]
     },
     "metadata": {
      "needs_background": "light"
     },
     "output_type": "display_data"
    }
   ],
   "source": [
    "import matplotlib.pyplot as plt\n",
    "\n",
    "plt.scatter(X_test[:, 0], y_test, label=\"Actual\")\n",
    "plt.scatter(X_test[:, 0], model(X_test, W, b), label=\"Predicted\", alpha=0.7)\n",
    "plt.xlabel(\"First feature\")\n",
    "plt.ylabel(\"Target\")\n",
    "plt.title(\"Prediction Visualization\")\n",
    "plt.legend()\n",
    "plt.grid(True)\n",
    "plt.show()\n"
   ]
  },
  {
   "cell_type": "code",
   "execution_count": null,
   "id": "59201331",
   "metadata": {},
   "outputs": [],
   "source": []
  }
 ],
 "metadata": {
  "kernelspec": {
   "display_name": "Python 3 (ipykernel)",
   "language": "python",
   "name": "python3"
  },
  "language_info": {
   "codemirror_mode": {
    "name": "ipython",
    "version": 3
   },
   "file_extension": ".py",
   "mimetype": "text/x-python",
   "name": "python",
   "nbconvert_exporter": "python",
   "pygments_lexer": "ipython3",
   "version": "3.9.7"
  }
 },
 "nbformat": 4,
 "nbformat_minor": 5
}
